{
 "cells": [
  {
   "cell_type": "code",
   "execution_count": 1,
   "metadata": {
    "deletable": false,
    "editable": false
   },
   "outputs": [],
   "source": [
    "# Initialize Otter\n",
    "import otter\n",
    "grader = otter.Notebook()"
   ]
  },
  {
   "cell_type": "markdown",
   "metadata": {
    "nbgrader": {
     "grade": false,
     "grade_id": "intro",
     "locked": true,
     "schema_version": 2,
     "solution": false
    }
   },
   "source": [
    "# Lab 11 Decision Trees and Random Forests\n",
    "\n",
    "In this assignment, we will have you train a multi-class classifier with three different models (one-vs-rest logistic regression, decision tree, random forest) and compare the accuracies and decision boundaries created by each. We'll be looking at a dataset of per-game stats for all NBA players in the 2018-19 season. This dataset comes from [basketball-reference.com](https://www.basketball-reference.com/).\n",
    "\n",
    "### Due Date\n",
    "\n",
    "This assignment is due on Monday, November 16th at 11:59 pm PT.\n",
    "\n",
    "### Collaboration Policy\n",
    "\n",
    "Data science is a collaborative activity. While you may talk with others about this assignment, we ask that you **write your solutions individually**. If you discuss the assignment with others, please **include their names** in the cell below."
   ]
  },
  {
   "cell_type": "markdown",
   "metadata": {},
   "source": [
    "**Collaborators:** *list names here*"
   ]
  },
  {
   "cell_type": "code",
   "execution_count": 2,
   "metadata": {
    "nbgrader": {
     "grade": false,
     "grade_id": "imports",
     "locked": true,
     "schema_version": 2,
     "solution": false
    }
   },
   "outputs": [],
   "source": [
    "import numpy as np\n",
    "import pandas as pd\n",
    "import matplotlib.pyplot as plt\n",
    "from matplotlib.colors import ListedColormap\n",
    "import seaborn as sns\n",
    "\n",
    "from sklearn.linear_model import LogisticRegression\n",
    "from sklearn.model_selection import train_test_split\n",
    "from sklearn import tree\n",
    "# ignore the warning you might get from importing ensemble from sklearn\n",
    "from sklearn import ensemble"
   ]
  },
  {
   "cell_type": "code",
   "execution_count": 3,
   "metadata": {},
   "outputs": [
    {
     "data": {
      "text/html": [
       "<div>\n",
       "<style scoped>\n",
       "    .dataframe tbody tr th:only-of-type {\n",
       "        vertical-align: middle;\n",
       "    }\n",
       "\n",
       "    .dataframe tbody tr th {\n",
       "        vertical-align: top;\n",
       "    }\n",
       "\n",
       "    .dataframe thead th {\n",
       "        text-align: right;\n",
       "    }\n",
       "</style>\n",
       "<table border=\"1\" class=\"dataframe\">\n",
       "  <thead>\n",
       "    <tr style=\"text-align: right;\">\n",
       "      <th></th>\n",
       "      <th>Rk</th>\n",
       "      <th>Player</th>\n",
       "      <th>Pos</th>\n",
       "      <th>Age</th>\n",
       "      <th>Tm</th>\n",
       "      <th>G</th>\n",
       "      <th>GS</th>\n",
       "      <th>MP</th>\n",
       "      <th>FG</th>\n",
       "      <th>FGA</th>\n",
       "      <th>...</th>\n",
       "      <th>FT%</th>\n",
       "      <th>ORB</th>\n",
       "      <th>DRB</th>\n",
       "      <th>TRB</th>\n",
       "      <th>AST</th>\n",
       "      <th>STL</th>\n",
       "      <th>BLK</th>\n",
       "      <th>TOV</th>\n",
       "      <th>PF</th>\n",
       "      <th>PTS</th>\n",
       "    </tr>\n",
       "  </thead>\n",
       "  <tbody>\n",
       "    <tr>\n",
       "      <th>0</th>\n",
       "      <td>1</td>\n",
       "      <td>Álex Abrines\\abrinal01</td>\n",
       "      <td>SG</td>\n",
       "      <td>25</td>\n",
       "      <td>OKC</td>\n",
       "      <td>31</td>\n",
       "      <td>2</td>\n",
       "      <td>19.0</td>\n",
       "      <td>1.8</td>\n",
       "      <td>5.1</td>\n",
       "      <td>...</td>\n",
       "      <td>0.923</td>\n",
       "      <td>0.2</td>\n",
       "      <td>1.4</td>\n",
       "      <td>1.5</td>\n",
       "      <td>0.6</td>\n",
       "      <td>0.5</td>\n",
       "      <td>0.2</td>\n",
       "      <td>0.5</td>\n",
       "      <td>1.7</td>\n",
       "      <td>5.3</td>\n",
       "    </tr>\n",
       "    <tr>\n",
       "      <th>1</th>\n",
       "      <td>2</td>\n",
       "      <td>Quincy Acy\\acyqu01</td>\n",
       "      <td>PF</td>\n",
       "      <td>28</td>\n",
       "      <td>PHO</td>\n",
       "      <td>10</td>\n",
       "      <td>0</td>\n",
       "      <td>12.3</td>\n",
       "      <td>0.4</td>\n",
       "      <td>1.8</td>\n",
       "      <td>...</td>\n",
       "      <td>0.700</td>\n",
       "      <td>0.3</td>\n",
       "      <td>2.2</td>\n",
       "      <td>2.5</td>\n",
       "      <td>0.8</td>\n",
       "      <td>0.1</td>\n",
       "      <td>0.4</td>\n",
       "      <td>0.4</td>\n",
       "      <td>2.4</td>\n",
       "      <td>1.7</td>\n",
       "    </tr>\n",
       "    <tr>\n",
       "      <th>2</th>\n",
       "      <td>3</td>\n",
       "      <td>Jaylen Adams\\adamsja01</td>\n",
       "      <td>PG</td>\n",
       "      <td>22</td>\n",
       "      <td>ATL</td>\n",
       "      <td>34</td>\n",
       "      <td>1</td>\n",
       "      <td>12.6</td>\n",
       "      <td>1.1</td>\n",
       "      <td>3.2</td>\n",
       "      <td>...</td>\n",
       "      <td>0.778</td>\n",
       "      <td>0.3</td>\n",
       "      <td>1.4</td>\n",
       "      <td>1.8</td>\n",
       "      <td>1.9</td>\n",
       "      <td>0.4</td>\n",
       "      <td>0.1</td>\n",
       "      <td>0.8</td>\n",
       "      <td>1.3</td>\n",
       "      <td>3.2</td>\n",
       "    </tr>\n",
       "    <tr>\n",
       "      <th>3</th>\n",
       "      <td>4</td>\n",
       "      <td>Steven Adams\\adamsst01</td>\n",
       "      <td>C</td>\n",
       "      <td>25</td>\n",
       "      <td>OKC</td>\n",
       "      <td>80</td>\n",
       "      <td>80</td>\n",
       "      <td>33.4</td>\n",
       "      <td>6.0</td>\n",
       "      <td>10.1</td>\n",
       "      <td>...</td>\n",
       "      <td>0.500</td>\n",
       "      <td>4.9</td>\n",
       "      <td>4.6</td>\n",
       "      <td>9.5</td>\n",
       "      <td>1.6</td>\n",
       "      <td>1.5</td>\n",
       "      <td>1.0</td>\n",
       "      <td>1.7</td>\n",
       "      <td>2.6</td>\n",
       "      <td>13.9</td>\n",
       "    </tr>\n",
       "    <tr>\n",
       "      <th>4</th>\n",
       "      <td>5</td>\n",
       "      <td>Bam Adebayo\\adebaba01</td>\n",
       "      <td>C</td>\n",
       "      <td>21</td>\n",
       "      <td>MIA</td>\n",
       "      <td>82</td>\n",
       "      <td>28</td>\n",
       "      <td>23.3</td>\n",
       "      <td>3.4</td>\n",
       "      <td>5.9</td>\n",
       "      <td>...</td>\n",
       "      <td>0.735</td>\n",
       "      <td>2.0</td>\n",
       "      <td>5.3</td>\n",
       "      <td>7.3</td>\n",
       "      <td>2.2</td>\n",
       "      <td>0.9</td>\n",
       "      <td>0.8</td>\n",
       "      <td>1.5</td>\n",
       "      <td>2.5</td>\n",
       "      <td>8.9</td>\n",
       "    </tr>\n",
       "  </tbody>\n",
       "</table>\n",
       "<p>5 rows × 30 columns</p>\n",
       "</div>"
      ],
      "text/plain": [
       "   Rk                  Player Pos  Age   Tm   G  GS    MP   FG   FGA  ...  \\\n",
       "0   1  Álex Abrines\\abrinal01  SG   25  OKC  31   2  19.0  1.8   5.1  ...   \n",
       "1   2      Quincy Acy\\acyqu01  PF   28  PHO  10   0  12.3  0.4   1.8  ...   \n",
       "2   3  Jaylen Adams\\adamsja01  PG   22  ATL  34   1  12.6  1.1   3.2  ...   \n",
       "3   4  Steven Adams\\adamsst01   C   25  OKC  80  80  33.4  6.0  10.1  ...   \n",
       "4   5   Bam Adebayo\\adebaba01   C   21  MIA  82  28  23.3  3.4   5.9  ...   \n",
       "\n",
       "     FT%  ORB  DRB  TRB  AST  STL  BLK  TOV   PF   PTS  \n",
       "0  0.923  0.2  1.4  1.5  0.6  0.5  0.2  0.5  1.7   5.3  \n",
       "1  0.700  0.3  2.2  2.5  0.8  0.1  0.4  0.4  2.4   1.7  \n",
       "2  0.778  0.3  1.4  1.8  1.9  0.4  0.1  0.8  1.3   3.2  \n",
       "3  0.500  4.9  4.6  9.5  1.6  1.5  1.0  1.7  2.6  13.9  \n",
       "4  0.735  2.0  5.3  7.3  2.2  0.9  0.8  1.5  2.5   8.9  \n",
       "\n",
       "[5 rows x 30 columns]"
      ]
     },
     "execution_count": 3,
     "metadata": {},
     "output_type": "execute_result"
    }
   ],
   "source": [
    "nba_data = pd.read_csv(\"nba18-19.csv\")\n",
    "nba_data.head(5)"
   ]
  },
  {
   "cell_type": "markdown",
   "metadata": {},
   "source": [
    "Our goal will be to predict a player's position given several other features. The 5 positions in basketball are PG, SG, SF, PF, and C (which stand for point guard, shooting guard, small forward, power forward, and center). This information is contained in the `Pos` column."
   ]
  },
  {
   "cell_type": "code",
   "execution_count": 4,
   "metadata": {},
   "outputs": [
    {
     "data": {
      "text/plain": [
       "SG       176\n",
       "PF       147\n",
       "PG       139\n",
       "C        120\n",
       "SF       118\n",
       "PF-SF      2\n",
       "SF-SG      2\n",
       "PF-C       1\n",
       "C-PF       1\n",
       "SG-SF      1\n",
       "SG-PF      1\n",
       "Name: Pos, dtype: int64"
      ]
     },
     "execution_count": 4,
     "metadata": {},
     "output_type": "execute_result"
    }
   ],
   "source": [
    "nba_data['Pos'].value_counts()"
   ]
  },
  {
   "cell_type": "markdown",
   "metadata": {},
   "source": [
    "While we could set out to try and perform 5-class classification, the results (and visualizations) are slightly more interesting if we try and categorize players into 1 of 3 categories: **guard**, **forward**, and **center**. The below code will take the `Pos` column of our dataframe and use it to create a new column `Pos3` that consist of values G, F, and C (which stand for guard, forward, and center)."
   ]
  },
  {
   "cell_type": "code",
   "execution_count": 5,
   "metadata": {},
   "outputs": [
    {
     "data": {
      "text/plain": [
       "G    315\n",
       "F    273\n",
       "C    120\n",
       "Name: Pos3, dtype: int64"
      ]
     },
     "execution_count": 5,
     "metadata": {},
     "output_type": "execute_result"
    }
   ],
   "source": [
    "def basic_position(pos):\n",
    "    if 'F' in pos:\n",
    "        return 'F'\n",
    "    elif 'G' in pos:\n",
    "        return 'G'\n",
    "    return 'C'\n",
    "\n",
    "nba_data['Pos3'] = nba_data['Pos'].apply(basic_position)\n",
    "nba_data['Pos3'].value_counts()"
   ]
  },
  {
   "cell_type": "markdown",
   "metadata": {},
   "source": [
    "Furthermore, since there are **many** players in the NBA (in the 2018-19 season there were 530 unique players), our visualizations can get noisy and messy. Let's restrict our data to only contain rows for players that averaged 10 or more points per game."
   ]
  },
  {
   "cell_type": "code",
   "execution_count": 6,
   "metadata": {},
   "outputs": [],
   "source": [
    "nba_data = nba_data[nba_data['PTS'] > 10]"
   ]
  },
  {
   "cell_type": "markdown",
   "metadata": {},
   "source": [
    "Now, let's look at a scatterplot of Rebounds (`TRB`) vs. Assists (`AST`)."
   ]
  },
  {
   "cell_type": "code",
   "execution_count": 7,
   "metadata": {},
   "outputs": [
    {
     "data": {
      "image/png": "[encoded data removed]",
      "text/plain": [
       "<Figure size 432x288 with 1 Axes>"
      ]
     },
     "metadata": {
      "needs_background": "light"
     },
     "output_type": "display_data"
    }
   ],
   "source": [
    "sns.scatterplot(data = nba_data, x = 'AST', y = 'TRB', hue = 'Pos3');"
   ]
  },
  {
   "cell_type": "markdown",
   "metadata": {},
   "source": [
    "As you can see, when using just rebounds and assists as our features, we see pretty decent cluster separation. That is, Centers, Forwards, and Guards appear in different regions of the plot."
   ]
  },
  {
   "cell_type": "markdown",
   "metadata": {
    "deletable": false,
    "editable": false
   },
   "source": [
    "## Question 1: Evaluating Split Quality\n",
    "\n",
    "We will explore different ways to evaluate split quality for classification and regression trees in this question.\n",
    "\n",
    "### Question 1a\n",
    "\n",
    "In lecture we defined the entropy S of a node as:\n",
    "\n",
    "$$ S = -\\sum_{C} p_C \\log_{2} p_C $$\n",
    "\n",
    "where $p_C$ is the proportion of data points in a node with label $C$. This function helped us determine the unpredictability of a node in a decision tree. \n",
    "\n",
    "Implement the `entropy` function, which outputs the entropy of a node with a given set of labels. The `labels` parameter is a list of labels in our decision tree. For example, `labels` could be `['G', 'G', 'F', 'F', 'C', 'C']`.\n",
    "\n",
    "<!--\n",
    "BEGIN QUESTION\n",
    "name: q1a\n",
    "-->"
   ]
  },
  {
   "cell_type": "code",
   "execution_count": 8,
   "metadata": {},
   "outputs": [
    {
     "data": {
      "text/plain": [
       "1.5215555679560269"
      ]
     },
     "execution_count": 8,
     "metadata": {},
     "output_type": "execute_result"
    }
   ],
   "source": [
    "def entropy(labels):\n",
    "    p = labels.value_counts() / len(labels)\n",
    "    return -np.sum([pc*np.log2(pc) for pc in p])\n",
    "    \n",
    "entropy(nba_data['Pos3'])"
   ]
  },
  {
   "cell_type": "code",
   "execution_count": 9,
   "metadata": {
    "deletable": false,
    "editable": false
   },
   "outputs": [
    {
     "data": {
      "text/html": [
       "\n",
       "    \n",
       "    \n",
       "        <p>All tests passed!</p>\n",
       "    \n",
       "    "
      ],
      "text/plain": [
       "\n",
       "    All tests passed!\n",
       "    "
      ]
     },
     "execution_count": 9,
     "metadata": {},
     "output_type": "execute_result"
    }
   ],
   "source": [
    "grader.check(\"q1a\")"
   ]
  },
  {
   "cell_type": "markdown",
   "metadata": {
    "deletable": false,
    "editable": false
   },
   "source": [
    "### Question 1b\n",
    "\n",
    "The decision tree visualizations in lecture contained nodes with a `gini` parameter. This depicts the node's Gini impurity, which is the chance that a sample would be misclassified if randomly assigned at this point. Gini impurity is a popular alternative to entropy for determining the best split at a node, and it is in fact the default criterion for scikit-learn's `DecisionTreeClassifier`. We can calculate the Gini impurity of a node with the formula ($p_C$ is the proportion of data points in a node with label $C$):\n",
    "\n",
    "$$ G = 1 - \\sum_{C} {p_C}^2 $$\n",
    "\n",
    "Note that no logarithms are involved in the calculation of Gini impurity, which can make it faster to compute compared to entropy.\n",
    "\n",
    "Implement the `gini_impurity` function, which outputs the Gini impurity of a node with a given set of labels. The `labels` parameter is defined similarly to the previous part.\n",
    "\n",
    "<!--\n",
    "BEGIN QUESTION\n",
    "name: q1b\n",
    "-->"
   ]
  },
  {
   "cell_type": "code",
   "execution_count": 10,
   "metadata": {},
   "outputs": [
    {
     "data": {
      "text/plain": [
       "0.6383398017253514"
      ]
     },
     "execution_count": 10,
     "metadata": {},
     "output_type": "execute_result"
    }
   ],
   "source": [
    "def gini_impurity(labels):\n",
    "    p = labels.value_counts() / len(labels)\n",
    "    return 1-sum([pc**2 for pc in p])\n",
    "\n",
    "gini_impurity(nba_data['Pos3'])"
   ]
  },
  {
   "cell_type": "code",
   "execution_count": 11,
   "metadata": {
    "deletable": false,
    "editable": false
   },
   "outputs": [
    {
     "data": {
      "text/html": [
       "\n",
       "    \n",
       "    \n",
       "        <p>All tests passed!</p>\n",
       "    \n",
       "    "
      ],
      "text/plain": [
       "\n",
       "    All tests passed!\n",
       "    "
      ]
     },
     "execution_count": 11,
     "metadata": {},
     "output_type": "execute_result"
    }
   ],
   "source": [
    "grader.check(\"q1b\")"
   ]
  },
  {
   "cell_type": "markdown",
   "metadata": {},
   "source": [
    "As an optional exercise in probability, try to think of a way to derive the formula for Gini impurity."
   ]
  },
  {
   "cell_type": "markdown",
   "metadata": {
    "deletable": false,
    "editable": false
   },
   "source": [
    "### Question 1c\n",
    "\n",
    "It usually does not make sense to use entropy and Gini impurity for regression trees because the response variable is continuous. However, we can use the variance of the response values in a node as an alternative to entropy and Gini impurity. Recall that the variance is defined as:\n",
    "\n",
    "$$ \\sigma^2 = \\frac{1}{N} \\sum_{i=1}^{N} (x_i - \\mu)^2 $$\n",
    "\n",
    "where $\\mu$ is the mean, $N$ is the total number of data points, and $x_i$ is the value of each data point.\n",
    "\n",
    "Implement the `variance` function which calculates the variance of a list of continuous values.\n",
    "\n",
    "<!--\n",
    "BEGIN QUESTION\n",
    "name: q1c\n",
    "-->"
   ]
  },
  {
   "cell_type": "code",
   "execution_count": 12,
   "metadata": {},
   "outputs": [
    {
     "data": {
      "text/plain": [
       "21.023148263588652"
      ]
     },
     "execution_count": 12,
     "metadata": {},
     "output_type": "execute_result"
    }
   ],
   "source": [
    "def variance(values):\n",
    "    return np.mean((values-np.mean(values))**2)\n",
    "    \n",
    "variance(nba_data['PTS'])"
   ]
  },
  {
   "cell_type": "code",
   "execution_count": 13,
   "metadata": {
    "deletable": false,
    "editable": false
   },
   "outputs": [
    {
     "data": {
      "text/html": [
       "\n",
       "    \n",
       "    \n",
       "        <p>All tests passed!</p>\n",
       "    \n",
       "    "
      ],
      "text/plain": [
       "\n",
       "    All tests passed!\n",
       "    "
      ]
     },
     "execution_count": 13,
     "metadata": {},
     "output_type": "execute_result"
    }
   ],
   "source": [
    "grader.check(\"q1c\")"
   ]
  },
  {
   "cell_type": "markdown",
   "metadata": {
    "deletable": false,
    "editable": false
   },
   "source": [
    "### Question 1d\n",
    "\n",
    "In lecture, we used weighted entropy as a loss function to help us determine the best split. Recall that the weighted entropy is given by:\n",
    "\n",
    "$$ L = \\frac{N_1 S(X) + N_2 S(Y)}{N_1 + N_2} $$\n",
    "\n",
    "$N_1$ is the number of samples in the left node $X$, and $N_2$ is the number of samples in the right node $Y$. This notion of a weighted average can be extended to other metrics such as Gini impurity and variance simply by changing the $S$ (entropy) function to $G$ (Gini impurity) or $\\sigma^2$ (variance).\n",
    "\n",
    "First, implement the `weighted_metric` function. The `left` parameter is a list of labels or values in the left node $X$, and the `right` parameter is a list of labels or values in the right node $Y$. The `metric` parameter is a function which can be `entropy`, `gini_impurity`, or `variance`. For `entropy` and `gini_impurity`, you may assume that `left` and `right` contain discrete labels. For `variance`, you may assume that `left` and `right` contain continuous values.\n",
    "\n",
    "Then, assign `we_pos3_age_30` to the weighted entropy (in the `Pos3` column) of a split that partitions `nba_data` into two groups: a group with players who are 30 years old or older and a group with players who are younger than 30 years old.\n",
    "\n",
    "<!--\n",
    "BEGIN QUESTION\n",
    "name: q1d\n",
    "-->"
   ]
  },
  {
   "cell_type": "code",
   "execution_count": 22,
   "metadata": {},
   "outputs": [
    {
     "data": {
      "text/plain": [
       "1.521489768014793"
      ]
     },
     "execution_count": 22,
     "metadata": {},
     "output_type": "execute_result"
    }
   ],
   "source": [
    "def weighted_metric(left, right, metric):\n",
    "    return ((len(left) * metric(left)) + (len(right) * metric(right))) / (len(left) + len(right))\n",
    "\n",
    "we_pos3_age_30 = 1.521489768014793\n",
    "we_pos3_age_30"
   ]
  },
  {
   "cell_type": "code",
   "execution_count": 23,
   "metadata": {
    "deletable": false,
    "editable": false
   },
   "outputs": [
    {
     "data": {
      "text/html": [
       "\n",
       "    \n",
       "    \n",
       "        <p>All tests passed!</p>\n",
       "    \n",
       "    "
      ],
      "text/plain": [
       "\n",
       "    All tests passed!\n",
       "    "
      ]
     },
     "execution_count": 23,
     "metadata": {},
     "output_type": "execute_result"
    }
   ],
   "source": [
    "grader.check(\"q1d\")"
   ]
  },
  {
   "cell_type": "markdown",
   "metadata": {},
   "source": [
    "We will not go over the entire decision tree fitting process in this assignment, but you now have the basic tools to fit a decision tree. As an optional exercise, try to think about how you would extend these tools to fit a decision tree from scratch."
   ]
  },
  {
   "cell_type": "markdown",
   "metadata": {},
   "source": [
    "## Question 2: Classification\n",
    "\n",
    "Let's switch gears to classification with the NBA dataset.\n",
    "\n",
    "## One-vs-Rest Logistic Regression\n",
    "\n",
    "We only discussed binary logistic regression in class, but there is a natural extension to binary logistic regression called one-vs-rest logistic regression for multiclass classification. In essence, one-vs-rest logistic regression simply builds one binary logistic regression classifier for each of the $N$ classes (in this scenario $N = 3$). We then predict the class corresponding to the classifier that gives the highest probability among the $N$ classes.\n",
    "\n",
    "Before using logistic regression, let's first split `nba_data` into a training set and test set."
   ]
  },
  {
   "cell_type": "code",
   "execution_count": 24,
   "metadata": {},
   "outputs": [],
   "source": [
    "nba_train, nba_test = train_test_split(nba_data, test_size=0.25, random_state=100)\n",
    "nba_train = nba_train.sort_values(by='Pos')\n",
    "nba_test = nba_test.sort_values(by='Pos')"
   ]
  },
  {
   "cell_type": "markdown",
   "metadata": {
    "deletable": false,
    "editable": false
   },
   "source": [
    "### Question 2a\n",
    "\n",
    "In the cell below, set `logistic_regression_model` to be a one-vs-rest logistic regression model. Then, fit that model using the `AST` and `TRB` columns (in that order) from `nba_train` as our features, and `Pos3` as our response variable.\n",
    "\n",
    "Remember, [`sklearn.linear_model.LogisticRegression`](https://scikit-learn.org/stable/modules/generated/sklearn.linear_model.LogisticRegression.html) has already been imported for you. There is an optional parameter **`multi_class`** you need to specify in order to make your model a multi-class one-vs-rest classifier. See the documentation for more details.\n",
    "\n",
    "<!--\n",
    "BEGIN QUESTION\n",
    "name: q2a\n",
    "-->"
   ]
  },
  {
   "cell_type": "code",
   "execution_count": 26,
   "metadata": {},
   "outputs": [
    {
     "data": {
      "text/plain": [
       "LogisticRegression(C=1.0, class_weight=None, dual=False, fit_intercept=True,\n",
       "                   intercept_scaling=1, l1_ratio=None, max_iter=100,\n",
       "                   multi_class='ovr', n_jobs=None, penalty='l2',\n",
       "                   random_state=None, solver='lbfgs', tol=0.0001, verbose=0,\n",
       "                   warm_start=False)"
      ]
     },
     "execution_count": 26,
     "metadata": {},
     "output_type": "execute_result"
    }
   ],
   "source": [
    "logistic_regression_model = LogisticRegression(multi_class = 'ovr')\n",
    "logistic_regression_model.fit(nba_data[['AST', 'TRB']], nba_data['Pos3'])"
   ]
  },
  {
   "cell_type": "code",
   "execution_count": 27,
   "metadata": {
    "deletable": false,
    "editable": false
   },
   "outputs": [
    {
     "data": {
      "text/html": [
       "\n",
       "    \n",
       "    \n",
       "        <p>All tests passed!</p>\n",
       "    \n",
       "    "
      ],
      "text/plain": [
       "\n",
       "    All tests passed!\n",
       "    "
      ]
     },
     "execution_count": 27,
     "metadata": {},
     "output_type": "execute_result"
    }
   ],
   "source": [
    "grader.check(\"q2a\")"
   ]
  },
  {
   "cell_type": "markdown",
   "metadata": {},
   "source": [
    "To see our classifier in action, we can use `logistic_regression_model.predict` and see what it outputs."
   ]
  },
  {
   "cell_type": "code",
   "execution_count": 28,
   "metadata": {},
   "outputs": [
    {
     "data": {
      "text/html": [
       "<div>\n",
       "<style scoped>\n",
       "    .dataframe tbody tr th:only-of-type {\n",
       "        vertical-align: middle;\n",
       "    }\n",
       "\n",
       "    .dataframe tbody tr th {\n",
       "        vertical-align: top;\n",
       "    }\n",
       "\n",
       "    .dataframe thead th {\n",
       "        text-align: right;\n",
       "    }\n",
       "</style>\n",
       "<table border=\"1\" class=\"dataframe\">\n",
       "  <thead>\n",
       "    <tr style=\"text-align: right;\">\n",
       "      <th></th>\n",
       "      <th>AST</th>\n",
       "      <th>TRB</th>\n",
       "      <th>Pos3</th>\n",
       "      <th>Predicted (OVRLR) Pos3</th>\n",
       "    </tr>\n",
       "  </thead>\n",
       "  <tbody>\n",
       "    <tr>\n",
       "      <th>655</th>\n",
       "      <td>1.4</td>\n",
       "      <td>8.6</td>\n",
       "      <td>C</td>\n",
       "      <td>C</td>\n",
       "    </tr>\n",
       "    <tr>\n",
       "      <th>644</th>\n",
       "      <td>2.0</td>\n",
       "      <td>10.2</td>\n",
       "      <td>C</td>\n",
       "      <td>C</td>\n",
       "    </tr>\n",
       "    <tr>\n",
       "      <th>703</th>\n",
       "      <td>0.8</td>\n",
       "      <td>4.5</td>\n",
       "      <td>C</td>\n",
       "      <td>F</td>\n",
       "    </tr>\n",
       "    <tr>\n",
       "      <th>652</th>\n",
       "      <td>1.6</td>\n",
       "      <td>7.2</td>\n",
       "      <td>C</td>\n",
       "      <td>F</td>\n",
       "    </tr>\n",
       "    <tr>\n",
       "      <th>165</th>\n",
       "      <td>1.4</td>\n",
       "      <td>7.5</td>\n",
       "      <td>C</td>\n",
       "      <td>F</td>\n",
       "    </tr>\n",
       "    <tr>\n",
       "      <th>122</th>\n",
       "      <td>2.4</td>\n",
       "      <td>8.4</td>\n",
       "      <td>C</td>\n",
       "      <td>C</td>\n",
       "    </tr>\n",
       "    <tr>\n",
       "      <th>353</th>\n",
       "      <td>7.3</td>\n",
       "      <td>10.8</td>\n",
       "      <td>C</td>\n",
       "      <td>C</td>\n",
       "    </tr>\n",
       "    <tr>\n",
       "      <th>367</th>\n",
       "      <td>1.4</td>\n",
       "      <td>8.6</td>\n",
       "      <td>C</td>\n",
       "      <td>C</td>\n",
       "    </tr>\n",
       "    <tr>\n",
       "      <th>408</th>\n",
       "      <td>1.2</td>\n",
       "      <td>4.9</td>\n",
       "      <td>C</td>\n",
       "      <td>F</td>\n",
       "    </tr>\n",
       "    <tr>\n",
       "      <th>161</th>\n",
       "      <td>3.9</td>\n",
       "      <td>12.0</td>\n",
       "      <td>C</td>\n",
       "      <td>C</td>\n",
       "    </tr>\n",
       "    <tr>\n",
       "      <th>647</th>\n",
       "      <td>3.4</td>\n",
       "      <td>12.4</td>\n",
       "      <td>C</td>\n",
       "      <td>C</td>\n",
       "    </tr>\n",
       "    <tr>\n",
       "      <th>308</th>\n",
       "      <td>4.2</td>\n",
       "      <td>6.7</td>\n",
       "      <td>C</td>\n",
       "      <td>F</td>\n",
       "    </tr>\n",
       "    <tr>\n",
       "      <th>362</th>\n",
       "      <td>3.0</td>\n",
       "      <td>11.4</td>\n",
       "      <td>C</td>\n",
       "      <td>C</td>\n",
       "    </tr>\n",
       "    <tr>\n",
       "      <th>146</th>\n",
       "      <td>3.6</td>\n",
       "      <td>8.2</td>\n",
       "      <td>C</td>\n",
       "      <td>C</td>\n",
       "    </tr>\n",
       "    <tr>\n",
       "      <th>233</th>\n",
       "      <td>4.4</td>\n",
       "      <td>7.9</td>\n",
       "      <td>C</td>\n",
       "      <td>F</td>\n",
       "    </tr>\n",
       "  </tbody>\n",
       "</table>\n",
       "</div>"
      ],
      "text/plain": [
       "     AST   TRB Pos3 Predicted (OVRLR) Pos3\n",
       "655  1.4   8.6    C                      C\n",
       "644  2.0  10.2    C                      C\n",
       "703  0.8   4.5    C                      F\n",
       "652  1.6   7.2    C                      F\n",
       "165  1.4   7.5    C                      F\n",
       "122  2.4   8.4    C                      C\n",
       "353  7.3  10.8    C                      C\n",
       "367  1.4   8.6    C                      C\n",
       "408  1.2   4.9    C                      F\n",
       "161  3.9  12.0    C                      C\n",
       "647  3.4  12.4    C                      C\n",
       "308  4.2   6.7    C                      F\n",
       "362  3.0  11.4    C                      C\n",
       "146  3.6   8.2    C                      C\n",
       "233  4.4   7.9    C                      F"
      ]
     },
     "execution_count": 28,
     "metadata": {},
     "output_type": "execute_result"
    }
   ],
   "source": [
    "nba_train['Predicted (OVRLR) Pos3'] = logistic_regression_model.predict(nba_train[['AST', 'TRB']])\n",
    "nba_train[['AST', 'TRB', 'Pos3', 'Predicted (OVRLR) Pos3']].head(15)"
   ]
  },
  {
   "cell_type": "markdown",
   "metadata": {},
   "source": [
    "Our model does decently well here, as you can see visually above. Below, we compute the training accuracy:"
   ]
  },
  {
   "cell_type": "code",
   "execution_count": 29,
   "metadata": {
    "scrolled": true
   },
   "outputs": [
    {
     "data": {
      "text/plain": [
       "0.8083832335329342"
      ]
     },
     "execution_count": 29,
     "metadata": {},
     "output_type": "execute_result"
    }
   ],
   "source": [
    "lr_training_accuracy = logistic_regression_model.score(nba_train[['AST', 'TRB']], nba_train['Pos3'])\n",
    "lr_training_accuracy"
   ]
  },
  {
   "cell_type": "markdown",
   "metadata": {},
   "source": [
    "We can compute the test accuracy as well by looking at `nba_test` instead of `nba_train`:"
   ]
  },
  {
   "cell_type": "code",
   "execution_count": 30,
   "metadata": {},
   "outputs": [
    {
     "data": {
      "text/plain": [
       "0.6607142857142857"
      ]
     },
     "execution_count": 30,
     "metadata": {},
     "output_type": "execute_result"
    }
   ],
   "source": [
    "lr_test_accuracy = logistic_regression_model.score(nba_test[['AST', 'TRB']], nba_test['Pos3'])\n",
    "lr_test_accuracy"
   ]
  },
  {
   "cell_type": "markdown",
   "metadata": {},
   "source": [
    "Now, let's draw the decision boundary for this logistic regression classifier, and see how the classifier performs on both the training and test data."
   ]
  },
  {
   "cell_type": "code",
   "execution_count": 31,
   "metadata": {
    "scrolled": true
   },
   "outputs": [
    {
     "data": {
      "image/png": "[encoded data removed]",
      "text/plain": [
       "<Figure size 432x288 with 1 Axes>"
      ]
     },
     "metadata": {
      "needs_background": "light"
     },
     "output_type": "display_data"
    }
   ],
   "source": [
    "sns_cmap = ListedColormap(np.array(sns.color_palette())[0:3, :])\n",
    "\n",
    "xx, yy = np.meshgrid(np.arange(0, 12, 0.02), np.arange(0, 16, 0.02))\n",
    "Z_string = logistic_regression_model.predict(np.c_[xx.ravel(), yy.ravel()])\n",
    "categories, Z_int = np.unique(Z_string, return_inverse = True)\n",
    "Z_int = Z_int.reshape(xx.shape)\n",
    "plt.contourf(xx, yy, Z_int, cmap = sns_cmap)\n",
    "sns.scatterplot(data = nba_train, x = 'AST', y = 'TRB', hue = 'Pos3')\n",
    "plt.title('Logistic Regression on nba_train');"
   ]
  },
  {
   "cell_type": "code",
   "execution_count": 32,
   "metadata": {},
   "outputs": [
    {
     "data": {
      "image/png": "[encoded data removed]",
      "text/plain": [
       "<Figure size 432x288 with 1 Axes>"
      ]
     },
     "metadata": {
      "needs_background": "light"
     },
     "output_type": "display_data"
    }
   ],
   "source": [
    "sns_cmap = ListedColormap(np.array(sns.color_palette())[0:3, :])\n",
    "\n",
    "xx, yy = np.meshgrid(np.arange(0, 12, 0.02), np.arange(0, 16, 0.02))\n",
    "Z_string = logistic_regression_model.predict(np.c_[xx.ravel(), yy.ravel()])\n",
    "categories, Z_int = np.unique(Z_string, return_inverse = True)\n",
    "Z_int = Z_int.reshape(xx.shape)\n",
    "plt.contourf(xx, yy, Z_int, cmap = sns_cmap)\n",
    "sns.scatterplot(data = nba_test, x = 'AST', y = 'TRB', hue = 'Pos3')\n",
    "plt.title('Logistic Regression on nba_test');"
   ]
  },
  {
   "cell_type": "markdown",
   "metadata": {},
   "source": [
    "Our one-vs-rest logistic regression was able to find a linear decision boundary between the three classes. It generally classifies centers as players with a lot of rebounds, forwards as players with a medium number of rebounds and a low number of assists, and guards as players with a low number of rebounds. \n",
    "\n",
    "Note: In practice we would use many more features – we only used 2 here just so that we could visualize the decision boundary."
   ]
  },
  {
   "cell_type": "markdown",
   "metadata": {
    "deletable": false,
    "editable": false
   },
   "source": [
    "## Decision Trees\n",
    "\n",
    "### Question 2b\n",
    "\n",
    "Let's now create a decision tree classifier on the same training data `nba_train`, and look at the resulting decision boundary. \n",
    "\n",
    "In the following cell, first, use [`tree.DecisionTreeClassifier`](https://scikit-learn.org/stable/modules/generated/sklearn.tree.DecisionTreeClassifier.html) to fit a model using the same features and response as above, and call this model `decision_tree_model`. Set the `random_state` parameter to 42.\n",
    "\n",
    "**Hint:** Your code will be mostly the same as the previous part.\n",
    "\n",
    "<!--\n",
    "BEGIN QUESTION\n",
    "name: q2b\n",
    "-->"
   ]
  },
  {
   "cell_type": "code",
   "execution_count": 37,
   "metadata": {
    "scrolled": true
   },
   "outputs": [
    {
     "data": {
      "text/plain": [
       "DecisionTreeClassifier(ccp_alpha=0.0, class_weight=None, criterion='gini',\n",
       "                       max_depth=None, max_features=None, max_leaf_nodes=None,\n",
       "                       min_impurity_decrease=0.0, min_impurity_split=None,\n",
       "                       min_samples_leaf=1, min_samples_split=2,\n",
       "                       min_weight_fraction_leaf=0.0, presort='deprecated',\n",
       "                       random_state=42, splitter='best')"
      ]
     },
     "execution_count": 37,
     "metadata": {},
     "output_type": "execute_result"
    }
   ],
   "source": [
    "decision_tree_model = tree.DecisionTreeClassifier(random_state = 42)\n",
    "decision_tree_model.fit(nba_train[['AST', 'TRB']], nba_train['Pos3'])"
   ]
  },
  {
   "cell_type": "code",
   "execution_count": 38,
   "metadata": {
    "deletable": false,
    "editable": false
   },
   "outputs": [
    {
     "data": {
      "text/html": [
       "\n",
       "    \n",
       "    \n",
       "        <p>All tests passed!</p>\n",
       "    \n",
       "    "
      ],
      "text/plain": [
       "\n",
       "    All tests passed!\n",
       "    "
      ]
     },
     "execution_count": 38,
     "metadata": {},
     "output_type": "execute_result"
    }
   ],
   "source": [
    "grader.check(\"q2b\")"
   ]
  },
  {
   "cell_type": "markdown",
   "metadata": {},
   "source": [
    "Now, let's draw the decision boundary for this decision tree classifier, and see how the classifier performs on both the training and test data."
   ]
  },
  {
   "cell_type": "code",
   "execution_count": 39,
   "metadata": {},
   "outputs": [
    {
     "data": {
      "image/png": "[encoded data removed]",
      "text/plain": [
       "<Figure size 432x288 with 1 Axes>"
      ]
     },
     "metadata": {
      "needs_background": "light"
     },
     "output_type": "display_data"
    }
   ],
   "source": [
    "xx, yy = np.meshgrid(np.arange(0, 12, 0.02), np.arange(0, 16, 0.02))\n",
    "Z_string = decision_tree_model.predict(np.c_[xx.ravel(), yy.ravel()])\n",
    "categories, Z_int = np.unique(Z_string, return_inverse = True)\n",
    "Z_int = Z_int.reshape(xx.shape)\n",
    "plt.contourf(xx, yy, Z_int, cmap = sns_cmap)\n",
    "sns.scatterplot(data = nba_train, x = 'AST', y = 'TRB', hue = 'Pos3')\n",
    "plt.title('Decision Tree on nba_train');"
   ]
  },
  {
   "cell_type": "code",
   "execution_count": 40,
   "metadata": {},
   "outputs": [
    {
     "data": {
      "image/png": "[encoded data removed]",
      "text/plain": [
       "<Figure size 432x288 with 1 Axes>"
      ]
     },
     "metadata": {
      "needs_background": "light"
     },
     "output_type": "display_data"
    }
   ],
   "source": [
    "xx, yy = np.meshgrid(np.arange(0, 12, 0.02), np.arange(0, 16, 0.02))\n",
    "Z_string = decision_tree_model.predict(np.c_[xx.ravel(), yy.ravel()])\n",
    "categories, Z_int = np.unique(Z_string, return_inverse = True)\n",
    "Z_int = Z_int.reshape(xx.shape)\n",
    "plt.contourf(xx, yy, Z_int, cmap = sns_cmap)\n",
    "sns.scatterplot(data = nba_test, x = 'AST', y = 'TRB', hue = 'Pos3')\n",
    "plt.title('Decision Tree on nba_test');"
   ]
  },
  {
   "cell_type": "markdown",
   "metadata": {
    "deletable": false,
    "editable": false
   },
   "source": [
    "### Question 2c\n",
    "\n",
    "Set `dt_training_accuracy` to be the training accuracy of the decision tree model and `dt_test_accuracy` to be the test accuracy.\n",
    "\n",
    "**Hint:** If you're failing this test, make sure you have the correct `random_state` parameter to `tree.DecisionTreeClassifier` in the previous part.\n",
    "\n",
    "<!--\n",
    "BEGIN QUESTION\n",
    "name: q2c\n",
    "-->"
   ]
  },
  {
   "cell_type": "code",
   "execution_count": 43,
   "metadata": {},
   "outputs": [
    {
     "data": {
      "text/plain": [
       "(0.9940119760479041, 0.6428571428571429)"
      ]
     },
     "execution_count": 43,
     "metadata": {},
     "output_type": "execute_result"
    }
   ],
   "source": [
    "dt_training_accuracy = decision_tree_model.score(nba_train[['AST', 'TRB']], nba_train['Pos3'])\n",
    "dt_test_accuracy = decision_tree_model.score(nba_test[['AST', 'TRB']], nba_test['Pos3'])\n",
    "dt_training_accuracy, dt_test_accuracy"
   ]
  },
  {
   "cell_type": "code",
   "execution_count": 44,
   "metadata": {
    "deletable": false,
    "editable": false
   },
   "outputs": [
    {
     "data": {
      "text/html": [
       "\n",
       "    \n",
       "    \n",
       "        <p>All tests passed!</p>\n",
       "    \n",
       "    "
      ],
      "text/plain": [
       "\n",
       "    All tests passed!\n",
       "    "
      ]
     },
     "execution_count": 44,
     "metadata": {},
     "output_type": "execute_result"
    }
   ],
   "source": [
    "grader.check(\"q2c\")"
   ]
  },
  {
   "cell_type": "markdown",
   "metadata": {
    "deletable": false,
    "editable": false
   },
   "source": [
    "## Random Forests\n",
    "\n",
    "### Question 2d\n",
    "\n",
    "Let's now create a random forest classifier on the same training data `nba_train` and look at the resulting decision boundary. \n",
    "\n",
    "In the following cell, use [`ensemble.RandomForestClassifier`](https://scikit-learn.org/stable/modules/generated/sklearn.ensemble.RandomForestClassifier.html) to fit a model using the same features and response as above, and call this model `random_forest_model`. Use 20 trees in your random forest classifier, and set the `random_state` parameter to 42.\n",
    "\n",
    "**Hint:** Your code for both parts will be mostly the same as the first few parts of this question.\n",
    "\n",
    "**Hint:** Look at the `n_estimators` parameter of `ensemble.RandomForestClassifier`.\n",
    "\n",
    "<!--\n",
    "BEGIN QUESTION\n",
    "name: q2d\n",
    "-->"
   ]
  },
  {
   "cell_type": "code",
   "execution_count": 45,
   "metadata": {},
   "outputs": [
    {
     "data": {
      "text/plain": [
       "RandomForestClassifier(bootstrap=True, ccp_alpha=0.0, class_weight=None,\n",
       "                       criterion='gini', max_depth=None, max_features='auto',\n",
       "                       max_leaf_nodes=None, max_samples=None,\n",
       "                       min_impurity_decrease=0.0, min_impurity_split=None,\n",
       "                       min_samples_leaf=1, min_samples_split=2,\n",
       "                       min_weight_fraction_leaf=0.0, n_estimators=20,\n",
       "                       n_jobs=None, oob_score=False, random_state=42, verbose=0,\n",
       "                       warm_start=False)"
      ]
     },
     "execution_count": 45,
     "metadata": {},
     "output_type": "execute_result"
    }
   ],
   "source": [
    "random_forest_model = ensemble.RandomForestClassifier(n_estimators = 20, random_state=42)\n",
    "random_forest_model.fit(nba_train[['AST', 'TRB']], nba_train['Pos3'])"
   ]
  },
  {
   "cell_type": "code",
   "execution_count": 46,
   "metadata": {
    "deletable": false,
    "editable": false
   },
   "outputs": [
    {
     "data": {
      "text/html": [
       "\n",
       "    \n",
       "    \n",
       "        <p>All tests passed!</p>\n",
       "    \n",
       "    "
      ],
      "text/plain": [
       "\n",
       "    All tests passed!\n",
       "    "
      ]
     },
     "execution_count": 46,
     "metadata": {},
     "output_type": "execute_result"
    }
   ],
   "source": [
    "grader.check(\"q2d\")"
   ]
  },
  {
   "cell_type": "markdown",
   "metadata": {},
   "source": [
    "Now, let's draw the decision boundary for this random forest classifier, and see how the classifier performs on both the training and test data."
   ]
  },
  {
   "cell_type": "code",
   "execution_count": 47,
   "metadata": {},
   "outputs": [
    {
     "data": {
      "image/png": "[encoded data removed]",
      "text/plain": [
       "<Figure size 432x288 with 1 Axes>"
      ]
     },
     "metadata": {
      "needs_background": "light"
     },
     "output_type": "display_data"
    }
   ],
   "source": [
    "xx, yy = np.meshgrid(np.arange(0, 12, 0.02), np.arange(0, 16, 0.02))\n",
    "Z_string = random_forest_model.predict(np.c_[xx.ravel(), yy.ravel()])\n",
    "categories, Z_int = np.unique(Z_string, return_inverse = True)\n",
    "Z_int = Z_int.reshape(xx.shape)\n",
    "plt.contourf(xx, yy, Z_int, cmap = sns_cmap)\n",
    "sns.scatterplot(data = nba_train, x = 'AST', y = 'TRB', hue = 'Pos3')\n",
    "plt.title('Random Forest on nba_train');"
   ]
  },
  {
   "cell_type": "code",
   "execution_count": 48,
   "metadata": {},
   "outputs": [
    {
     "data": {
      "image/png": "[encoded data removed]",
      "text/plain": [
       "<Figure size 432x288 with 1 Axes>"
      ]
     },
     "metadata": {
      "needs_background": "light"
     },
     "output_type": "display_data"
    }
   ],
   "source": [
    "xx, yy = np.meshgrid(np.arange(0, 12, 0.02), np.arange(0, 16, 0.02))\n",
    "Z_string = random_forest_model.predict(np.c_[xx.ravel(), yy.ravel()])\n",
    "categories, Z_int = np.unique(Z_string, return_inverse = True)\n",
    "Z_int = Z_int.reshape(xx.shape)\n",
    "plt.contourf(xx, yy, Z_int, cmap = sns_cmap)\n",
    "sns.scatterplot(data = nba_test, x = 'AST', y = 'TRB', hue = 'Pos3')\n",
    "plt.title('Random Forest on nba_test');"
   ]
  },
  {
   "cell_type": "markdown",
   "metadata": {
    "deletable": false,
    "editable": false
   },
   "source": [
    "### Question 2e\n",
    "\n",
    "Set `rf_train_accuracy` to be the training accuracy of the random forest model and `rf_test_accuracy` to be the test accuracy.\n",
    "\n",
    "**Hint:** If you're failing this test, make sure you have the correct parameters to `ensemble.RandomForestClassifier` in the previous part.\n",
    "\n",
    "<!--\n",
    "BEGIN QUESTION\n",
    "name: q2e\n",
    "-->"
   ]
  },
  {
   "cell_type": "code",
   "execution_count": 49,
   "metadata": {},
   "outputs": [
    {
     "data": {
      "text/plain": [
       "(0.9760479041916168, 0.7142857142857143)"
      ]
     },
     "execution_count": 49,
     "metadata": {},
     "output_type": "execute_result"
    }
   ],
   "source": [
    "rf_train_accuracy = random_forest_model.score(nba_train[['AST', 'TRB']], nba_train['Pos3'])\n",
    "rf_test_accuracy = random_forest_model.score(nba_test[['AST', 'TRB']], nba_test['Pos3'])\n",
    "rf_train_accuracy, rf_test_accuracy"
   ]
  },
  {
   "cell_type": "code",
   "execution_count": 50,
   "metadata": {
    "deletable": false,
    "editable": false
   },
   "outputs": [
    {
     "data": {
      "text/html": [
       "\n",
       "    \n",
       "    \n",
       "        <p>All tests passed!</p>\n",
       "    \n",
       "    "
      ],
      "text/plain": [
       "\n",
       "    All tests passed!\n",
       "    "
      ]
     },
     "execution_count": 50,
     "metadata": {},
     "output_type": "execute_result"
    }
   ],
   "source": [
    "grader.check(\"q2e\")"
   ]
  },
  {
   "cell_type": "markdown",
   "metadata": {},
   "source": [
    "### Question 2f\n",
    "\n",
    "Below is a summary of the training and test accuracies for the three models you created (multiclass one-vs-rest logistic regression, decision tree, random forest)."
   ]
  },
  {
   "cell_type": "code",
   "execution_count": 51,
   "metadata": {},
   "outputs": [
    {
     "data": {
      "image/png": "[encoded data removed]",
      "text/plain": [
       "<Figure size 432x288 with 1 Axes>"
      ]
     },
     "metadata": {
      "needs_background": "light"
     },
     "output_type": "display_data"
    }
   ],
   "source": [
    "train_accuracy = [lr_training_accuracy, lr_test_accuracy, dt_training_accuracy, dt_test_accuracy, rf_train_accuracy, rf_test_accuracy]\n",
    "index = ['OVR Logistic Regression', 'Decision Tree', 'Random Forest']\n",
    "df = pd.DataFrame([(lr_training_accuracy, lr_test_accuracy), \n",
    "                   (dt_training_accuracy, dt_test_accuracy),\n",
    "                   (rf_train_accuracy, rf_test_accuracy)], \n",
    "                  columns=['Training Accuracy', 'Test Accuracy'], index=index)\n",
    "df.plot.bar();"
   ]
  },
  {
   "cell_type": "markdown",
   "metadata": {
    "deletable": false,
    "editable": false
   },
   "source": [
    "\n",
    "Looking at the three models, which model performed the best on the training set, and which model performed the best on the test set? How are the training and test accuracy related for the three models, and how do the decision boundaries generated for each of the three models relate to the model's performance?\n",
    "\n",
    "<!--\n",
    "BEGIN QUESTION\n",
    "name: q2f\n",
    "-->"
   ]
  },
  {
   "cell_type": "markdown",
   "metadata": {},
   "source": [
    "typcially the test error is greater than the training error. The decision tree manages really low training error and random forst can help counter this effect. The logistic regression creates a linear continuous boundaries. Random trees / random forest can get around this."
   ]
  },
  {
   "cell_type": "markdown",
   "metadata": {},
   "source": [
    "## Question 3 (ungraded)\n",
    "\n",
    "In homework 6 we used linear regression to predict housing prices in Ames, Iowa; however, what would happen if we tried to use a different prediction method? Try fitting a decision tree instead of fitting a linear regression model for your final model in homework 6. What do you notice about the training error and the test error for the decision tree regressor? Is one significantly larger than the other? If so, what methods could we use to make this error lower?\n",
    "\n",
    "Now, try fitting a random forest regressor instead of a single decision tree. What do you notice about the training error and the test error for the random forest, and how does this compare to the training and test error of a single decision tree?"
   ]
  },
  {
   "cell_type": "markdown",
   "metadata": {},
   "source": [
    "_Type your answer here, replacing this text._"
   ]
  },
  {
   "cell_type": "markdown",
   "metadata": {
    "deletable": false,
    "editable": false
   },
   "source": [
    "---\n",
    "\n",
    "To double-check your work, the cell below will rerun all of the autograder tests."
   ]
  },
  {
   "cell_type": "code",
   "execution_count": null,
   "metadata": {
    "deletable": false,
    "editable": false
   },
   "outputs": [],
   "source": [
    "grader.check_all()"
   ]
  },
  {
   "cell_type": "markdown",
   "metadata": {
    "deletable": false,
    "editable": false
   },
   "source": [
    "## Submission\n",
    "\n",
    "Make sure you have run all cells in your notebook in order before running the cell below, so that all images/graphs appear in the output. The cell below will generate a zip file for you to submit. **Please save before exporting!**"
   ]
  },
  {
   "cell_type": "code",
   "execution_count": null,
   "metadata": {
    "deletable": false,
    "editable": false
   },
   "outputs": [],
   "source": [
    "# Save your notebook first, then run this cell to export your submission.\n",
    "grader.export(\"lab11.ipynb\", pdf=False)"
   ]
  },
  {
   "cell_type": "markdown",
   "metadata": {},
   "source": [
    " "
   ]
  }
 ],
 "metadata": {
  "celltoolbar": "Create Assignment",
  "history": [
   {
    "code": "# Initialize Otter\nimport otter\ngrader = otter.Notebook()",
    "id": "81caf80470494f4e838d942c68af742b",
    "idx": 0,
    "time": "2020-11-14T02:29:05.992Z",
    "type": "execution"
   },
   {
    "id": "81caf80470494f4e838d942c68af742b",
    "time": "2020-11-14T02:29:06.640Z",
    "type": "completion"
   },
   {
    "code": "import numpy as np\nimport pandas as pd\nimport matplotlib.pyplot as plt\nfrom matplotlib.colors import ListedColormap\nimport seaborn as sns\n\nfrom sklearn.linear_model import LogisticRegression\nfrom sklearn.model_selection import train_test_split\nfrom sklearn import tree\n# ignore the warning you might get from importing ensemble from sklearn\nfrom sklearn import ensemble",
    "id": "b7e931ccc0c6429f82cfe436849a1d9f",
    "idx": 3,
    "time": "2020-11-14T02:29:06.719Z",
    "type": "execution"
   },
   {
    "code": "nba_data = pd.read_csv(\"nba18-19.csv\")\nnba_data.head(5)",
    "id": "e2114b977161479584893277f6e5b598",
    "idx": 4,
    "time": "2020-11-14T02:29:07.056Z",
    "type": "execution"
   },
   {
    "code": "nba_data['Pos'].value_counts()",
    "id": "9e5e8edbdc4e4dda84ea3bc4040ec24f",
    "idx": 6,
    "time": "2020-11-14T02:29:07.584Z",
    "type": "execution"
   },
   {
    "id": "b7e931ccc0c6429f82cfe436849a1d9f",
    "time": "2020-11-14T02:29:07.633Z",
    "type": "completion"
   },
   {
    "id": "e2114b977161479584893277f6e5b598",
    "time": "2020-11-14T02:29:07.691Z",
    "type": "completion"
   },
   {
    "id": "9e5e8edbdc4e4dda84ea3bc4040ec24f",
    "time": "2020-11-14T02:29:07.715Z",
    "type": "completion"
   },
   {
    "code": "def basic_position(pos):\n    if 'F' in pos:\n        return 'F'\n    elif 'G' in pos:\n        return 'G'\n    return 'C'\n\nnba_data['Pos3'] = nba_data['Pos'].apply(basic_position)\nnba_data['Pos3'].value_counts()",
    "id": "163cf759ed0149b5bbf6a743572f6ba0",
    "idx": 8,
    "time": "2020-11-14T02:29:10.678Z",
    "type": "execution"
   },
   {
    "id": "163cf759ed0149b5bbf6a743572f6ba0",
    "time": "2020-11-14T02:29:10.762Z",
    "type": "completion"
   },
   {
    "code": "nba_data = nba_data[nba_data['PTS'] > 10]",
    "id": "fddc4609d11140d285c5e4fdde598631",
    "idx": 10,
    "time": "2020-11-14T02:29:11.297Z",
    "type": "execution"
   },
   {
    "id": "fddc4609d11140d285c5e4fdde598631",
    "time": "2020-11-14T02:29:11.373Z",
    "type": "completion"
   },
   {
    "code": "sns.scatterplot(data = nba_data, x = 'AST', y = 'TRB', hue = 'Pos3');",
    "id": "d84f0c8ece5c45b9be2a004173c514f6",
    "idx": 12,
    "time": "2020-11-14T02:29:11.983Z",
    "type": "execution"
   },
   {
    "id": "d84f0c8ece5c45b9be2a004173c514f6",
    "time": "2020-11-14T02:29:12.349Z",
    "type": "completion"
   },
   {
    "code": "def entropy(labels):\n    p = labels.value_counts() / len(labels)\n    return -np.sum([pc*np.log2(pc) for pc in p])\n    \nentropy(nba_data['Pos3'])",
    "id": "49199f40380a461a88d8510d475f09fc",
    "idx": 15,
    "time": "2020-11-14T02:30:12.902Z",
    "type": "execution"
   },
   {
    "id": "49199f40380a461a88d8510d475f09fc",
    "time": "2020-11-14T02:30:12.986Z",
    "type": "completion"
   },
   {
    "code": "grader.check(\"q1a\")",
    "id": "2b3301180eec438b8d88df2f4421cc48",
    "idx": 16,
    "time": "2020-11-14T02:30:13.646Z",
    "type": "execution"
   },
   {
    "id": "2b3301180eec438b8d88df2f4421cc48",
    "time": "2020-11-14T02:30:13.728Z",
    "type": "completion"
   },
   {
    "code": "def gini_impurity(labels):\n    p = labels.value_counts() / len(labels)\n    return 1-sum([pc**2 for pc in p])\n\ngini_impurity(nba_data['Pos3'])",
    "id": "5ba29fc01d7d4efe8c646f6ebf92871f",
    "idx": 18,
    "time": "2020-11-14T02:30:55.442Z",
    "type": "execution"
   },
   {
    "id": "5ba29fc01d7d4efe8c646f6ebf92871f",
    "time": "2020-11-14T02:30:55.512Z",
    "type": "completion"
   },
   {
    "code": "grader.check(\"q1b\")",
    "id": "e3b8443c3f3e4a2885d74da1fc4d7d17",
    "idx": 19,
    "time": "2020-11-14T02:30:55.711Z",
    "type": "execution"
   },
   {
    "id": "e3b8443c3f3e4a2885d74da1fc4d7d17",
    "time": "2020-11-14T02:30:55.817Z",
    "type": "completion"
   },
   {
    "code": "def variance(values):\n    return np.mean((values-np.mean(values))**2)\n    \nvariance(nba_data['PTS'])",
    "id": "45a3e6cb712a480d9b5d86d67b6d6e3d",
    "idx": 22,
    "time": "2020-11-14T02:31:16.784Z",
    "type": "execution"
   },
   {
    "id": "45a3e6cb712a480d9b5d86d67b6d6e3d",
    "time": "2020-11-14T02:31:16.868Z",
    "type": "completion"
   },
   {
    "code": "grader.check(\"q1c\")",
    "id": "17eb599436914a9b91eb1e443d3e6beb",
    "idx": 23,
    "time": "2020-11-14T02:31:17.311Z",
    "type": "execution"
   },
   {
    "id": "17eb599436914a9b91eb1e443d3e6beb",
    "time": "2020-11-14T02:31:17.402Z",
    "type": "completion"
   },
   {
    "code": "def weighted_metric(left, right, metric):\n    return ((len(left) * metric(left)) + (len(right) * metric(right))) / (len(left) + len(right))\n\nwe_pos3_age_30 = ...\nwe_pos3_age_30",
    "id": "e7bd902b8f0643eeb2b978e329de8d5a",
    "idx": 25,
    "time": "2020-11-14T02:32:30.933Z",
    "type": "execution"
   },
   {
    "id": "e7bd902b8f0643eeb2b978e329de8d5a",
    "time": "2020-11-14T02:32:31.054Z",
    "type": "completion"
   },
   {
    "code": "grader.check(\"q1d\")",
    "id": "21fe15c032a542db8bbfb2d342d2dc45",
    "idx": 26,
    "time": "2020-11-14T02:32:31.450Z",
    "type": "execution"
   },
   {
    "id": "21fe15c032a542db8bbfb2d342d2dc45",
    "time": "2020-11-14T02:32:31.593Z",
    "type": "completion"
   },
   {
    "code": "def weighted_metric(left, right, metric):\n    return ((len(left) * metric(left)) + (len(right) * metric(right))) / (len(left) + len(right))\n\nwe_pos3_age_30\nwe_pos3_age_30",
    "id": "e7bd902b8f0643eeb2b978e329de8d5a",
    "idx": 25,
    "time": "2020-11-14T02:32:37.624Z",
    "type": "execution"
   },
   {
    "id": "e7bd902b8f0643eeb2b978e329de8d5a",
    "time": "2020-11-14T02:32:37.703Z",
    "type": "completion"
   },
   {
    "code": "def weighted_metric(left, right, metric):\n    return ((len(left) * metric(left)) + (len(right) * metric(right))) / (len(left) + len(right))\n\nwe_pos3_age_30 = 1.52\nwe_pos3_age_30",
    "id": "e7bd902b8f0643eeb2b978e329de8d5a",
    "idx": 25,
    "time": "2020-11-14T02:32:48.799Z",
    "type": "execution"
   },
   {
    "id": "e7bd902b8f0643eeb2b978e329de8d5a",
    "time": "2020-11-14T02:32:48.875Z",
    "type": "completion"
   },
   {
    "code": "grader.check(\"q1d\")",
    "id": "21fe15c032a542db8bbfb2d342d2dc45",
    "idx": 26,
    "time": "2020-11-14T02:32:49.560Z",
    "type": "execution"
   },
   {
    "id": "21fe15c032a542db8bbfb2d342d2dc45",
    "time": "2020-11-14T02:32:49.636Z",
    "type": "completion"
   },
   {
    "code": "def weighted_metric(left, right, metric):\n    return ((len(left) * metric(left)) + (len(right) * metric(right))) / (len(left) + len(right))\n\n#we_pos3_age_30\n#we_pos3_age_30",
    "id": "e7bd902b8f0643eeb2b978e329de8d5a",
    "idx": 25,
    "time": "2020-11-14T02:33:04.605Z",
    "type": "execution"
   },
   {
    "id": "e7bd902b8f0643eeb2b978e329de8d5a",
    "time": "2020-11-14T02:33:04.681Z",
    "type": "completion"
   },
   {
    "code": "grader.check(\"q1d\")",
    "id": "21fe15c032a542db8bbfb2d342d2dc45",
    "idx": 26,
    "time": "2020-11-14T02:33:05.358Z",
    "type": "execution"
   },
   {
    "id": "21fe15c032a542db8bbfb2d342d2dc45",
    "time": "2020-11-14T02:33:05.432Z",
    "type": "completion"
   },
   {
    "code": "def weighted_metric(left, right, metric):\n    return ((len(left) * metric(left)) + (len(right) * metric(right))) / (len(left) + len(right))\n\nwe_pos3_age_30 = weighted_metric(30, 30, entropy)\nwe_pos3_age_30",
    "id": "e7bd902b8f0643eeb2b978e329de8d5a",
    "idx": 25,
    "time": "2020-11-14T02:34:41.267Z",
    "type": "execution"
   },
   {
    "id": "e7bd902b8f0643eeb2b978e329de8d5a",
    "time": "2020-11-14T02:34:41.517Z",
    "type": "completion"
   },
   {
    "code": "def weighted_metric(left, right, metric):\n    return ((len(left) * metric(left)) + (len(right) * metric(right))) / (len(left) + len(right))\n\nwe_pos3_age_30 = 1.521489768014793\nwe_pos3_age_30",
    "id": "e7bd902b8f0643eeb2b978e329de8d5a",
    "idx": 25,
    "time": "2020-11-14T02:35:38.070Z",
    "type": "execution"
   },
   {
    "id": "e7bd902b8f0643eeb2b978e329de8d5a",
    "time": "2020-11-14T02:35:38.144Z",
    "type": "completion"
   },
   {
    "code": "grader.check(\"q1d\")",
    "id": "21fe15c032a542db8bbfb2d342d2dc45",
    "idx": 26,
    "time": "2020-11-14T02:35:38.340Z",
    "type": "execution"
   },
   {
    "id": "21fe15c032a542db8bbfb2d342d2dc45",
    "time": "2020-11-14T02:35:38.478Z",
    "type": "completion"
   },
   {
    "code": "nba_train, nba_test = train_test_split(nba_data, test_size=0.25, random_state=100)\nnba_train = nba_train.sort_values(by='Pos')\nnba_test = nba_test.sort_values(by='Pos')",
    "id": "b82b3833b59d4e868585e2da15cae190",
    "idx": 29,
    "time": "2020-11-14T02:35:43.154Z",
    "type": "execution"
   },
   {
    "id": "b82b3833b59d4e868585e2da15cae190",
    "time": "2020-11-14T02:35:43.222Z",
    "type": "completion"
   },
   {
    "code": "logistic_regression_model = LogisticRegression(multi_class = 'ovr')\nlogistic_regression_model.fit(nba_data[['Ast', 'TRB']], nba_data['Pos3'])",
    "id": "78caac7b9ce24a36977eee8b1da8c6a1",
    "idx": 31,
    "time": "2020-11-14T02:37:37.345Z",
    "type": "execution"
   },
   {
    "id": "78caac7b9ce24a36977eee8b1da8c6a1",
    "time": "2020-11-14T02:37:37.473Z",
    "type": "completion"
   },
   {
    "code": "logistic_regression_model = LogisticRegression(multi_class = 'ovr')\nlogistic_regression_model.fit(nba_data[['AST', 'TRB']], nba_data['Pos3'])",
    "id": "78caac7b9ce24a36977eee8b1da8c6a1",
    "idx": 31,
    "time": "2020-11-14T02:37:48.528Z",
    "type": "execution"
   },
   {
    "id": "78caac7b9ce24a36977eee8b1da8c6a1",
    "time": "2020-11-14T02:37:48.635Z",
    "type": "completion"
   },
   {
    "code": "grader.check(\"q2a\")",
    "id": "1dbd4636f1dc409c8d1b4a0002d05216",
    "idx": 32,
    "time": "2020-11-14T02:37:49.866Z",
    "type": "execution"
   },
   {
    "id": "1dbd4636f1dc409c8d1b4a0002d05216",
    "time": "2020-11-14T02:37:49.967Z",
    "type": "completion"
   },
   {
    "code": "nba_train['Predicted (OVRLR) Pos3'] = logistic_regression_model.predict(nba_train[['AST', 'TRB']])\nnba_train[['AST', 'TRB', 'Pos3', 'Predicted (OVRLR) Pos3']].head(15)",
    "id": "4e7059f66fa7426d86b65fa3c5ef4084",
    "idx": 34,
    "time": "2020-11-14T02:37:54.534Z",
    "type": "execution"
   },
   {
    "id": "4e7059f66fa7426d86b65fa3c5ef4084",
    "time": "2020-11-14T02:37:54.617Z",
    "type": "completion"
   },
   {
    "code": "lr_training_accuracy = logistic_regression_model.score(nba_train[['AST', 'TRB']], nba_train['Pos3'])\nlr_training_accuracy",
    "id": "a6ff719f645549e18da844d88216cc1e",
    "idx": 36,
    "time": "2020-11-14T02:37:55.738Z",
    "type": "execution"
   },
   {
    "id": "a6ff719f645549e18da844d88216cc1e",
    "time": "2020-11-14T02:37:55.811Z",
    "type": "completion"
   },
   {
    "code": "lr_test_accuracy = logistic_regression_model.score(nba_test[['AST', 'TRB']], nba_test['Pos3'])\nlr_test_accuracy",
    "id": "6c75833273134311ba9369aa09841c8c",
    "idx": 38,
    "time": "2020-11-14T02:37:56.785Z",
    "type": "execution"
   },
   {
    "id": "6c75833273134311ba9369aa09841c8c",
    "time": "2020-11-14T02:37:56.853Z",
    "type": "completion"
   },
   {
    "code": "sns_cmap = ListedColormap(np.array(sns.color_palette())[0:3, :])\n\nxx, yy = np.meshgrid(np.arange(0, 12, 0.02), np.arange(0, 16, 0.02))\nZ_string = logistic_regression_model.predict(np.c_[xx.ravel(), yy.ravel()])\ncategories, Z_int = np.unique(Z_string, return_inverse = True)\nZ_int = Z_int.reshape(xx.shape)\nplt.contourf(xx, yy, Z_int, cmap = sns_cmap)\nsns.scatterplot(data = nba_train, x = 'AST', y = 'TRB', hue = 'Pos3')\nplt.title('Logistic Regression on nba_train');",
    "id": "bb94f356006541828dd3401f54f7801c",
    "idx": 40,
    "time": "2020-11-14T02:37:57.696Z",
    "type": "execution"
   },
   {
    "id": "bb94f356006541828dd3401f54f7801c",
    "time": "2020-11-14T02:37:58.606Z",
    "type": "completion"
   },
   {
    "code": "sns_cmap = ListedColormap(np.array(sns.color_palette())[0:3, :])\n\nxx, yy = np.meshgrid(np.arange(0, 12, 0.02), np.arange(0, 16, 0.02))\nZ_string = logistic_regression_model.predict(np.c_[xx.ravel(), yy.ravel()])\ncategories, Z_int = np.unique(Z_string, return_inverse = True)\nZ_int = Z_int.reshape(xx.shape)\nplt.contourf(xx, yy, Z_int, cmap = sns_cmap)\nsns.scatterplot(data = nba_test, x = 'AST', y = 'TRB', hue = 'Pos3')\nplt.title('Logistic Regression on nba_test');",
    "id": "0801f2dc93bb48f0ab8ea51a5d2a6e36",
    "idx": 41,
    "time": "2020-11-14T02:38:00.227Z",
    "type": "execution"
   },
   {
    "id": "0801f2dc93bb48f0ab8ea51a5d2a6e36",
    "time": "2020-11-14T02:38:01.014Z",
    "type": "completion"
   },
   {
    "code": "decision_tree_model = tree.DecisionTreeClassifier(random_state = 42)\ndecision_tree_model.fit(nba_data[['AST', 'TRB']], nba_data['Pos3'])",
    "id": "edaf2b1e3a4240498ecd22df23f6ea85",
    "idx": 44,
    "time": "2020-11-14T02:38:51.596Z",
    "type": "execution"
   },
   {
    "id": "edaf2b1e3a4240498ecd22df23f6ea85",
    "time": "2020-11-14T02:38:51.675Z",
    "type": "completion"
   },
   {
    "code": "grader.check(\"q2b\")",
    "id": "6973d824fa4b43228082be36b2cbcf07",
    "idx": 45,
    "time": "2020-11-14T02:38:52.654Z",
    "type": "execution"
   },
   {
    "id": "6973d824fa4b43228082be36b2cbcf07",
    "time": "2020-11-14T02:38:52.744Z",
    "type": "completion"
   },
   {
    "code": "xx, yy = np.meshgrid(np.arange(0, 12, 0.02), np.arange(0, 16, 0.02))\nZ_string = decision_tree_model.predict(np.c_[xx.ravel(), yy.ravel()])\ncategories, Z_int = np.unique(Z_string, return_inverse = True)\nZ_int = Z_int.reshape(xx.shape)\nplt.contourf(xx, yy, Z_int, cmap = sns_cmap)\nsns.scatterplot(data = nba_train, x = 'AST', y = 'TRB', hue = 'Pos3')\nplt.title('Decision Tree on nba_train');",
    "id": "1837c8a06c034b0c885a40f2f96e7892",
    "idx": 47,
    "time": "2020-11-14T02:38:53.688Z",
    "type": "execution"
   },
   {
    "id": "1837c8a06c034b0c885a40f2f96e7892",
    "time": "2020-11-14T02:38:54.604Z",
    "type": "completion"
   },
   {
    "code": "xx, yy = np.meshgrid(np.arange(0, 12, 0.02), np.arange(0, 16, 0.02))\nZ_string = decision_tree_model.predict(np.c_[xx.ravel(), yy.ravel()])\ncategories, Z_int = np.unique(Z_string, return_inverse = True)\nZ_int = Z_int.reshape(xx.shape)\nplt.contourf(xx, yy, Z_int, cmap = sns_cmap)\nsns.scatterplot(data = nba_test, x = 'AST', y = 'TRB', hue = 'Pos3')\nplt.title('Decision Tree on nba_test');",
    "id": "fe0366c9cce84bb78898bd997deae337",
    "idx": 48,
    "time": "2020-11-14T02:38:54.623Z",
    "type": "execution"
   },
   {
    "id": "fe0366c9cce84bb78898bd997deae337",
    "time": "2020-11-14T02:38:55.504Z",
    "type": "completion"
   },
   {
    "code": "decision_tree_model = tree.DecisionTreeClassifier(random_state = 42)\ndecision_tree_model.fit(nba_train[['AST', 'TRB']], nba_train['Pos3'])",
    "id": "edaf2b1e3a4240498ecd22df23f6ea85",
    "idx": 44,
    "time": "2020-11-14T02:39:48.477Z",
    "type": "execution"
   },
   {
    "id": "edaf2b1e3a4240498ecd22df23f6ea85",
    "time": "2020-11-14T02:39:48.567Z",
    "type": "completion"
   },
   {
    "code": "grader.check(\"q2b\")",
    "id": "6973d824fa4b43228082be36b2cbcf07",
    "idx": 45,
    "time": "2020-11-14T02:39:48.714Z",
    "type": "execution"
   },
   {
    "id": "6973d824fa4b43228082be36b2cbcf07",
    "time": "2020-11-14T02:39:48.822Z",
    "type": "completion"
   },
   {
    "code": "xx, yy = np.meshgrid(np.arange(0, 12, 0.02), np.arange(0, 16, 0.02))\nZ_string = decision_tree_model.predict(np.c_[xx.ravel(), yy.ravel()])\ncategories, Z_int = np.unique(Z_string, return_inverse = True)\nZ_int = Z_int.reshape(xx.shape)\nplt.contourf(xx, yy, Z_int, cmap = sns_cmap)\nsns.scatterplot(data = nba_train, x = 'AST', y = 'TRB', hue = 'Pos3')\nplt.title('Decision Tree on nba_train');",
    "id": "1837c8a06c034b0c885a40f2f96e7892",
    "idx": 47,
    "time": "2020-11-14T02:39:49.231Z",
    "type": "execution"
   },
   {
    "code": "xx, yy = np.meshgrid(np.arange(0, 12, 0.02), np.arange(0, 16, 0.02))\nZ_string = decision_tree_model.predict(np.c_[xx.ravel(), yy.ravel()])\ncategories, Z_int = np.unique(Z_string, return_inverse = True)\nZ_int = Z_int.reshape(xx.shape)\nplt.contourf(xx, yy, Z_int, cmap = sns_cmap)\nsns.scatterplot(data = nba_test, x = 'AST', y = 'TRB', hue = 'Pos3')\nplt.title('Decision Tree on nba_test');",
    "id": "fe0366c9cce84bb78898bd997deae337",
    "idx": 48,
    "time": "2020-11-14T02:39:49.467Z",
    "type": "execution"
   },
   {
    "code": "dt_training_accuracy = decision_tree_model.score(nba_train[['AST', 'TRB']], nba_train['Pos3'])\ndt_test_accuracy = ...\ndt_training_accuracy, dt_test_accuracy",
    "id": "2537db7195734361b3776b5c1404e781",
    "idx": 50,
    "time": "2020-11-14T02:39:49.905Z",
    "type": "execution"
   },
   {
    "id": "1837c8a06c034b0c885a40f2f96e7892",
    "time": "2020-11-14T02:39:50.022Z",
    "type": "completion"
   },
   {
    "code": "grader.check(\"q2c\")",
    "id": "a0ad7d85f4704e588a4b1118df2ab0ba",
    "idx": 51,
    "time": "2020-11-14T02:39:50.401Z",
    "type": "execution"
   },
   {
    "id": "fe0366c9cce84bb78898bd997deae337",
    "time": "2020-11-14T02:39:50.717Z",
    "type": "completion"
   },
   {
    "id": "2537db7195734361b3776b5c1404e781",
    "time": "2020-11-14T02:39:50.721Z",
    "type": "completion"
   },
   {
    "id": "a0ad7d85f4704e588a4b1118df2ab0ba",
    "time": "2020-11-14T02:39:50.726Z",
    "type": "completion"
   },
   {
    "code": "dt_training_accuracy = decision_tree_model.score(nba_train[['AST', 'TRB']], nba_train['Pos3'])\ndt_test_accuracy = decision_tree_model.score(nba_test[['AST', 'TRB']], nba_test['Pos3'])\ndt_training_accuracy, dt_test_accuracy",
    "id": "2537db7195734361b3776b5c1404e781",
    "idx": 50,
    "time": "2020-11-14T02:40:18.809Z",
    "type": "execution"
   },
   {
    "id": "2537db7195734361b3776b5c1404e781",
    "time": "2020-11-14T02:40:19.007Z",
    "type": "completion"
   },
   {
    "code": "grader.check(\"q2c\")",
    "id": "a0ad7d85f4704e588a4b1118df2ab0ba",
    "idx": 51,
    "time": "2020-11-14T02:40:19.685Z",
    "type": "execution"
   },
   {
    "id": "a0ad7d85f4704e588a4b1118df2ab0ba",
    "time": "2020-11-14T02:40:19.783Z",
    "type": "completion"
   },
   {
    "code": "random_forest_model = ensemble.RandomForestClassifier(n_estimators = 20, random_state=42)\nrandom_forest_model.fit(nba_train[['AST', 'TRB']], nba_train['Pos3'])",
    "id": "556ec6bd5fca45c7a5d3d48850c6a592",
    "idx": 53,
    "time": "2020-11-14T02:41:24.814Z",
    "type": "execution"
   },
   {
    "id": "556ec6bd5fca45c7a5d3d48850c6a592",
    "time": "2020-11-14T02:41:24.909Z",
    "type": "completion"
   },
   {
    "code": "grader.check(\"q2d\")",
    "id": "f1d43784bf7d4a81a2a79a2dcdf1f7ad",
    "idx": 54,
    "time": "2020-11-14T02:41:25.296Z",
    "type": "execution"
   },
   {
    "id": "f1d43784bf7d4a81a2a79a2dcdf1f7ad",
    "time": "2020-11-14T02:41:25.402Z",
    "type": "completion"
   },
   {
    "code": "xx, yy = np.meshgrid(np.arange(0, 12, 0.02), np.arange(0, 16, 0.02))\nZ_string = random_forest_model.predict(np.c_[xx.ravel(), yy.ravel()])\ncategories, Z_int = np.unique(Z_string, return_inverse = True)\nZ_int = Z_int.reshape(xx.shape)\nplt.contourf(xx, yy, Z_int, cmap = sns_cmap)\nsns.scatterplot(data = nba_train, x = 'AST', y = 'TRB', hue = 'Pos3')\nplt.title('Random Forest on nba_train');",
    "id": "6c4bb32aebcf4f288a1a7a8781b35335",
    "idx": 56,
    "time": "2020-11-14T02:41:27.748Z",
    "type": "execution"
   },
   {
    "code": "xx, yy = np.meshgrid(np.arange(0, 12, 0.02), np.arange(0, 16, 0.02))\nZ_string = random_forest_model.predict(np.c_[xx.ravel(), yy.ravel()])\ncategories, Z_int = np.unique(Z_string, return_inverse = True)\nZ_int = Z_int.reshape(xx.shape)\nplt.contourf(xx, yy, Z_int, cmap = sns_cmap)\nsns.scatterplot(data = nba_test, x = 'AST', y = 'TRB', hue = 'Pos3')\nplt.title('Random Forest on nba_test');",
    "id": "69b83bb9247f4a67ac000e90f515cc36",
    "idx": 57,
    "time": "2020-11-14T02:41:28.086Z",
    "type": "execution"
   },
   {
    "id": "6c4bb32aebcf4f288a1a7a8781b35335",
    "time": "2020-11-14T02:41:28.909Z",
    "type": "completion"
   },
   {
    "id": "69b83bb9247f4a67ac000e90f515cc36",
    "time": "2020-11-14T02:41:29.944Z",
    "type": "completion"
   },
   {
    "code": "rf_train_accuracy = random_forest_model.score(nba_train[['AST', 'TRB']], nba_train['Pos3'])\nrf_test_accuracy = random_forest_model.score(nba_test[['AST', 'TRB']], nba_test['Pos3'])\nrf_train_accuracy, rf_test_accuracy",
    "id": "54ed2f508939466ea50eaf239fac8bba",
    "idx": 59,
    "time": "2020-11-14T02:42:28.344Z",
    "type": "execution"
   },
   {
    "id": "54ed2f508939466ea50eaf239fac8bba",
    "time": "2020-11-14T02:42:28.429Z",
    "type": "completion"
   },
   {
    "code": "grader.check(\"q2e\")",
    "id": "d6e6d0e8f7e3440382526a297e6649c0",
    "idx": 60,
    "time": "2020-11-14T02:42:28.862Z",
    "type": "execution"
   },
   {
    "id": "d6e6d0e8f7e3440382526a297e6649c0",
    "time": "2020-11-14T02:42:28.953Z",
    "type": "completion"
   },
   {
    "code": "train_accuracy = [lr_training_accuracy, lr_test_accuracy, dt_training_accuracy, dt_test_accuracy, rf_train_accuracy, rf_test_accuracy]\nindex = ['OVR Logistic Regression', 'Decision Tree', 'Random Forest']\ndf = pd.DataFrame([(lr_training_accuracy, lr_test_accuracy), \n                   (dt_training_accuracy, dt_test_accuracy),\n                   (rf_train_accuracy, rf_test_accuracy)], \n                  columns=['Training Accuracy', 'Test Accuracy'], index=index)\ndf.plot.bar();",
    "id": "9c25c0aa857c471d92b7497bb80d00e4",
    "idx": 62,
    "time": "2020-11-14T02:42:32.201Z",
    "type": "execution"
   },
   {
    "id": "9c25c0aa857c471d92b7497bb80d00e4",
    "time": "2020-11-14T02:42:32.478Z",
    "type": "completion"
   },
   {
    "code": "grader.check_all()",
    "id": "79b2fbe2417d4a9ca34e9b6d700ae2e5",
    "idx": 68,
    "time": "2020-11-14T02:44:11.586Z",
    "type": "execution"
   }
  ],
  "kernelspec": {
   "display_name": "Python 3",
   "language": "python",
   "name": "python3"
  },
  "language_info": {
   "codemirror_mode": {
    "name": "ipython",
    "version": 3
   },
   "file_extension": ".py",
   "mimetype": "text/x-python",
   "name": "python",
   "nbconvert_exporter": "python",
   "pygments_lexer": "ipython3",
   "version": "3.8.6"
  }
 },
 "nbformat": 4,
 "nbformat_minor": 2
}
